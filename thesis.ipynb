{
  "nbformat": 4,
  "nbformat_minor": 0,
  "metadata": {
    "colab": {
      "provenance": [],
      "mount_file_id": "1Ysa8sw8E4_q9xuUh4_SjOr_1v-Tbeq3G",
      "authorship_tag": "ABX9TyOjS3tP2KCLf7kF35b3Xc/f",
      "include_colab_link": true
    },
    "kernelspec": {
      "name": "python3",
      "display_name": "Python 3"
    },
    "language_info": {
      "name": "python"
    }
  },
  "cells": [
    {
      "cell_type": "markdown",
      "metadata": {
        "id": "view-in-github",
        "colab_type": "text"
      },
      "source": [
        "<a href=\"https://colab.research.google.com/github/leetung0718/thesis/blob/main/thesis.ipynb\" target=\"_parent\"><img src=\"https://colab.research.google.com/assets/colab-badge.svg\" alt=\"Open In Colab\"/></a>"
      ]
    },
    {
      "cell_type": "code",
      "execution_count": 7,
      "metadata": {
        "colab": {
          "base_uri": "https://localhost:8080/"
        },
        "id": "Jp6eyHP_NS00",
        "outputId": "753f96e2-b251-44b0-b641-5acd16eb6346"
      },
      "outputs": [
        {
          "output_type": "stream",
          "name": "stdout",
          "text": [
            "Python Platform: Linux-5.10.147+-x86_64-with-glibc2.29\n",
            "Tensor Flow Version: 2.11.0\n",
            "Keras Version: 2.11.0\n",
            "\n",
            "Python 3.8.10 (default, Nov 14 2022, 12:59:47) \n",
            "[GCC 9.4.0]\n",
            "Numpy 1.22.4\n",
            "Pandas 1.3.5\n",
            "Scikit-Learn 1.0.2\n",
            "GPU is NOT AVAILABLE\n"
          ]
        }
      ],
      "source": [
        "# What version of Python do you have?\n",
        "import sys\n",
        "\n",
        "import tensorflow.keras\n",
        "import numpy as np\n",
        "import pandas as pd\n",
        "import sklearn as sk\n",
        "import tensorflow as tf\n",
        "import platform\n",
        "\n",
        "print(f\"Python Platform: {platform.platform()}\")\n",
        "print(f\"Tensor Flow Version: {tf.__version__}\")\n",
        "print(f\"Keras Version: {tensorflow.keras.__version__}\")\n",
        "print()\n",
        "print(f\"Python {sys.version}\")\n",
        "print(f\"Numpy {np.__version__}\")\n",
        "print(f\"Pandas {pd.__version__}\")\n",
        "print(f\"Scikit-Learn {sk.__version__}\")\n",
        "gpu = len(tf.config.list_physical_devices('GPU'))>0\n",
        "print(\"GPU is\", \"available\" if gpu else \"NOT AVAILABLE\")"
      ]
    },
    {
      "cell_type": "code",
      "source": [
        "df = pd.read_csv(\"/content/drive/MyDrive/Colab Notebooks/thesis/TAIEX.csv\", parse_dates=True, index_col=0)\n",
        "df['Return'] = df['Close'].pct_change(periods=1)\n",
        "df"
      ],
      "metadata": {
        "colab": {
          "base_uri": "https://localhost:8080/",
          "height": 450
        },
        "id": "F9W4MYs7On-K",
        "outputId": "57a1770d-86ff-4f96-9848-9a351ec0c900"
      },
      "execution_count": 4,
      "outputs": [
        {
          "output_type": "execute_result",
          "data": {
            "text/plain": [
              "                Open      High       Low     Close      Volume    Return\n",
              "date                                                                    \n",
              "1999-01-05   6310.41   6310.41   6111.64   6152.43  1377116000       NaN\n",
              "1999-01-06   6082.02   6280.93   5988.06   6199.91  1999194031  0.007717\n",
              "1999-01-07   6280.38   6409.55   6181.62   6404.31  2631142753  0.032968\n",
              "1999-01-08   6371.34   6492.87   6371.34   6421.75  2864094997  0.002723\n",
              "1999-01-11   6472.02   6492.90   6392.49   6406.99  2180092599 -0.002298\n",
              "...              ...       ...       ...       ...         ...       ...\n",
              "2022-12-26  14271.20  14301.11  14253.20  14285.13  3106471398  0.000946\n",
              "2022-12-27  14310.19  14410.24  14310.19  14328.43  3659061689  0.003031\n",
              "2022-12-28  14249.83  14249.83  14119.30  14173.10  4430499324 -0.010841\n",
              "2022-12-29  14097.51  14120.57  13981.63  14085.02  4180927034 -0.006215\n",
              "2022-12-30  14183.52  14248.90  14137.69  14137.69  3496035561  0.003739\n",
              "\n",
              "[5970 rows x 6 columns]"
            ],
            "text/html": [
              "\n",
              "  <div id=\"df-a33345ef-2ea9-439d-8a89-b71bcfaefde6\">\n",
              "    <div class=\"colab-df-container\">\n",
              "      <div>\n",
              "<style scoped>\n",
              "    .dataframe tbody tr th:only-of-type {\n",
              "        vertical-align: middle;\n",
              "    }\n",
              "\n",
              "    .dataframe tbody tr th {\n",
              "        vertical-align: top;\n",
              "    }\n",
              "\n",
              "    .dataframe thead th {\n",
              "        text-align: right;\n",
              "    }\n",
              "</style>\n",
              "<table border=\"1\" class=\"dataframe\">\n",
              "  <thead>\n",
              "    <tr style=\"text-align: right;\">\n",
              "      <th></th>\n",
              "      <th>Open</th>\n",
              "      <th>High</th>\n",
              "      <th>Low</th>\n",
              "      <th>Close</th>\n",
              "      <th>Volume</th>\n",
              "      <th>Return</th>\n",
              "    </tr>\n",
              "    <tr>\n",
              "      <th>date</th>\n",
              "      <th></th>\n",
              "      <th></th>\n",
              "      <th></th>\n",
              "      <th></th>\n",
              "      <th></th>\n",
              "      <th></th>\n",
              "    </tr>\n",
              "  </thead>\n",
              "  <tbody>\n",
              "    <tr>\n",
              "      <th>1999-01-05</th>\n",
              "      <td>6310.41</td>\n",
              "      <td>6310.41</td>\n",
              "      <td>6111.64</td>\n",
              "      <td>6152.43</td>\n",
              "      <td>1377116000</td>\n",
              "      <td>NaN</td>\n",
              "    </tr>\n",
              "    <tr>\n",
              "      <th>1999-01-06</th>\n",
              "      <td>6082.02</td>\n",
              "      <td>6280.93</td>\n",
              "      <td>5988.06</td>\n",
              "      <td>6199.91</td>\n",
              "      <td>1999194031</td>\n",
              "      <td>0.007717</td>\n",
              "    </tr>\n",
              "    <tr>\n",
              "      <th>1999-01-07</th>\n",
              "      <td>6280.38</td>\n",
              "      <td>6409.55</td>\n",
              "      <td>6181.62</td>\n",
              "      <td>6404.31</td>\n",
              "      <td>2631142753</td>\n",
              "      <td>0.032968</td>\n",
              "    </tr>\n",
              "    <tr>\n",
              "      <th>1999-01-08</th>\n",
              "      <td>6371.34</td>\n",
              "      <td>6492.87</td>\n",
              "      <td>6371.34</td>\n",
              "      <td>6421.75</td>\n",
              "      <td>2864094997</td>\n",
              "      <td>0.002723</td>\n",
              "    </tr>\n",
              "    <tr>\n",
              "      <th>1999-01-11</th>\n",
              "      <td>6472.02</td>\n",
              "      <td>6492.90</td>\n",
              "      <td>6392.49</td>\n",
              "      <td>6406.99</td>\n",
              "      <td>2180092599</td>\n",
              "      <td>-0.002298</td>\n",
              "    </tr>\n",
              "    <tr>\n",
              "      <th>...</th>\n",
              "      <td>...</td>\n",
              "      <td>...</td>\n",
              "      <td>...</td>\n",
              "      <td>...</td>\n",
              "      <td>...</td>\n",
              "      <td>...</td>\n",
              "    </tr>\n",
              "    <tr>\n",
              "      <th>2022-12-26</th>\n",
              "      <td>14271.20</td>\n",
              "      <td>14301.11</td>\n",
              "      <td>14253.20</td>\n",
              "      <td>14285.13</td>\n",
              "      <td>3106471398</td>\n",
              "      <td>0.000946</td>\n",
              "    </tr>\n",
              "    <tr>\n",
              "      <th>2022-12-27</th>\n",
              "      <td>14310.19</td>\n",
              "      <td>14410.24</td>\n",
              "      <td>14310.19</td>\n",
              "      <td>14328.43</td>\n",
              "      <td>3659061689</td>\n",
              "      <td>0.003031</td>\n",
              "    </tr>\n",
              "    <tr>\n",
              "      <th>2022-12-28</th>\n",
              "      <td>14249.83</td>\n",
              "      <td>14249.83</td>\n",
              "      <td>14119.30</td>\n",
              "      <td>14173.10</td>\n",
              "      <td>4430499324</td>\n",
              "      <td>-0.010841</td>\n",
              "    </tr>\n",
              "    <tr>\n",
              "      <th>2022-12-29</th>\n",
              "      <td>14097.51</td>\n",
              "      <td>14120.57</td>\n",
              "      <td>13981.63</td>\n",
              "      <td>14085.02</td>\n",
              "      <td>4180927034</td>\n",
              "      <td>-0.006215</td>\n",
              "    </tr>\n",
              "    <tr>\n",
              "      <th>2022-12-30</th>\n",
              "      <td>14183.52</td>\n",
              "      <td>14248.90</td>\n",
              "      <td>14137.69</td>\n",
              "      <td>14137.69</td>\n",
              "      <td>3496035561</td>\n",
              "      <td>0.003739</td>\n",
              "    </tr>\n",
              "  </tbody>\n",
              "</table>\n",
              "<p>5970 rows × 6 columns</p>\n",
              "</div>\n",
              "      <button class=\"colab-df-convert\" onclick=\"convertToInteractive('df-a33345ef-2ea9-439d-8a89-b71bcfaefde6')\"\n",
              "              title=\"Convert this dataframe to an interactive table.\"\n",
              "              style=\"display:none;\">\n",
              "        \n",
              "  <svg xmlns=\"http://www.w3.org/2000/svg\" height=\"24px\"viewBox=\"0 0 24 24\"\n",
              "       width=\"24px\">\n",
              "    <path d=\"M0 0h24v24H0V0z\" fill=\"none\"/>\n",
              "    <path d=\"M18.56 5.44l.94 2.06.94-2.06 2.06-.94-2.06-.94-.94-2.06-.94 2.06-2.06.94zm-11 1L8.5 8.5l.94-2.06 2.06-.94-2.06-.94L8.5 2.5l-.94 2.06-2.06.94zm10 10l.94 2.06.94-2.06 2.06-.94-2.06-.94-.94-2.06-.94 2.06-2.06.94z\"/><path d=\"M17.41 7.96l-1.37-1.37c-.4-.4-.92-.59-1.43-.59-.52 0-1.04.2-1.43.59L10.3 9.45l-7.72 7.72c-.78.78-.78 2.05 0 2.83L4 21.41c.39.39.9.59 1.41.59.51 0 1.02-.2 1.41-.59l7.78-7.78 2.81-2.81c.8-.78.8-2.07 0-2.86zM5.41 20L4 18.59l7.72-7.72 1.47 1.35L5.41 20z\"/>\n",
              "  </svg>\n",
              "      </button>\n",
              "      \n",
              "  <style>\n",
              "    .colab-df-container {\n",
              "      display:flex;\n",
              "      flex-wrap:wrap;\n",
              "      gap: 12px;\n",
              "    }\n",
              "\n",
              "    .colab-df-convert {\n",
              "      background-color: #E8F0FE;\n",
              "      border: none;\n",
              "      border-radius: 50%;\n",
              "      cursor: pointer;\n",
              "      display: none;\n",
              "      fill: #1967D2;\n",
              "      height: 32px;\n",
              "      padding: 0 0 0 0;\n",
              "      width: 32px;\n",
              "    }\n",
              "\n",
              "    .colab-df-convert:hover {\n",
              "      background-color: #E2EBFA;\n",
              "      box-shadow: 0px 1px 2px rgba(60, 64, 67, 0.3), 0px 1px 3px 1px rgba(60, 64, 67, 0.15);\n",
              "      fill: #174EA6;\n",
              "    }\n",
              "\n",
              "    [theme=dark] .colab-df-convert {\n",
              "      background-color: #3B4455;\n",
              "      fill: #D2E3FC;\n",
              "    }\n",
              "\n",
              "    [theme=dark] .colab-df-convert:hover {\n",
              "      background-color: #434B5C;\n",
              "      box-shadow: 0px 1px 3px 1px rgba(0, 0, 0, 0.15);\n",
              "      filter: drop-shadow(0px 1px 2px rgba(0, 0, 0, 0.3));\n",
              "      fill: #FFFFFF;\n",
              "    }\n",
              "  </style>\n",
              "\n",
              "      <script>\n",
              "        const buttonEl =\n",
              "          document.querySelector('#df-a33345ef-2ea9-439d-8a89-b71bcfaefde6 button.colab-df-convert');\n",
              "        buttonEl.style.display =\n",
              "          google.colab.kernel.accessAllowed ? 'block' : 'none';\n",
              "\n",
              "        async function convertToInteractive(key) {\n",
              "          const element = document.querySelector('#df-a33345ef-2ea9-439d-8a89-b71bcfaefde6');\n",
              "          const dataTable =\n",
              "            await google.colab.kernel.invokeFunction('convertToInteractive',\n",
              "                                                     [key], {});\n",
              "          if (!dataTable) return;\n",
              "\n",
              "          const docLinkHtml = 'Like what you see? Visit the ' +\n",
              "            '<a target=\"_blank\" href=https://colab.research.google.com/notebooks/data_table.ipynb>data table notebook</a>'\n",
              "            + ' to learn more about interactive tables.';\n",
              "          element.innerHTML = '';\n",
              "          dataTable['output_type'] = 'display_data';\n",
              "          await google.colab.output.renderOutput(dataTable, element);\n",
              "          const docLink = document.createElement('div');\n",
              "          docLink.innerHTML = docLinkHtml;\n",
              "          element.appendChild(docLink);\n",
              "        }\n",
              "      </script>\n",
              "    </div>\n",
              "  </div>\n",
              "  "
            ]
          },
          "metadata": {},
          "execution_count": 4
        }
      ]
    },
    {
      "cell_type": "code",
      "source": [
        "# YT\n",
        "dataset = df.dropna().values\n",
        "dataset = dataset.astype('float32')\n",
        "# dataset\n",
        "train_size = int(len(dataset)*0.7)\n",
        "test_size = len(dataset) - train_size\n",
        "train, test = dataset[0:train_size, :], dataset[train_size:len(dataset), :]\n",
        "\n",
        "def to_seq(dataset, size=1):\n",
        "    x, y = [], []\n",
        "\n",
        "    for i in range(len(dataset)-size):\n",
        "        window = dataset[i:(i+size), 0]\n",
        "        x.append(window)\n",
        "        y.append(dataset[i+size, 0])\n",
        "\n",
        "    return np.array(x), np.array(y)\n",
        "\n",
        "trainX, trainY = to_seq(train, size=5)\n",
        "testX, testY = to_seq(test, size=5)\n",
        "\n",
        "trainX = np.reshape(trainX, (trainX.shape[0], 1, trainX.shape[1]))\n",
        "testX = np.reshape(testX, (testX.shape[0], 1, testX.shape[1]))\n"
      ],
      "metadata": {
        "id": "Rj-WRKNwPNdN"
      },
      "execution_count": 8,
      "outputs": []
    },
    {
      "cell_type": "code",
      "source": [
        "import math\n",
        "from keras.models import Sequential\n",
        "from keras.layers import Dense, LSTM, Flatten, ConvLSTM2D\n",
        "from sklearn.preprocessing import MinMaxScaler\n",
        "from sklearn.metrics import mean_squared_error"
      ],
      "metadata": {
        "id": "ZRdraOeuPaor"
      },
      "execution_count": 9,
      "outputs": []
    },
    {
      "cell_type": "code",
      "source": [
        "model = Sequential()\n",
        "model.add(LSTM(64, input_shape=(None, 5)))\n",
        "model.add(Dense(32))\n",
        "model.add(Dense(1))\n",
        "model.compile(loss='mean_squared_error', optimizer='adam')\n",
        "model.summary()\n"
      ],
      "metadata": {
        "colab": {
          "base_uri": "https://localhost:8080/"
        },
        "id": "c0NThQ0SPb27",
        "outputId": "f9104ae7-4f5d-420d-d893-0bf7e24abb5d"
      },
      "execution_count": 10,
      "outputs": [
        {
          "output_type": "stream",
          "name": "stdout",
          "text": [
            "Model: \"sequential\"\n",
            "_________________________________________________________________\n",
            " Layer (type)                Output Shape              Param #   \n",
            "=================================================================\n",
            " lstm (LSTM)                 (None, 64)                17920     \n",
            "                                                                 \n",
            " dense (Dense)               (None, 32)                2080      \n",
            "                                                                 \n",
            " dense_1 (Dense)             (None, 1)                 33        \n",
            "                                                                 \n",
            "=================================================================\n",
            "Total params: 20,033\n",
            "Trainable params: 20,033\n",
            "Non-trainable params: 0\n",
            "_________________________________________________________________\n"
          ]
        }
      ]
    },
    {
      "cell_type": "code",
      "source": [
        "model.fit(trainX, trainY, validation_data=(testX, testY), verbose=2, epochs=10)"
      ],
      "metadata": {
        "colab": {
          "base_uri": "https://localhost:8080/"
        },
        "id": "kD6fyHx3PeDj",
        "outputId": "812ff269-788e-4e84-b521-1d7682237d1c"
      },
      "execution_count": 12,
      "outputs": [
        {
          "output_type": "stream",
          "name": "stdout",
          "text": [
            "Epoch 1/10\n",
            "131/131 - 5s - loss: 52766880.0000 - val_loss: 152201808.0000 - 5s/epoch - 37ms/step\n",
            "Epoch 2/10\n",
            "131/131 - 1s - loss: 52221776.0000 - val_loss: 150839728.0000 - 510ms/epoch - 4ms/step\n",
            "Epoch 3/10\n",
            "131/131 - 1s - loss: 51156936.0000 - val_loss: 148592080.0000 - 511ms/epoch - 4ms/step\n",
            "Epoch 4/10\n",
            "131/131 - 0s - loss: 49598368.0000 - val_loss: 145532304.0000 - 490ms/epoch - 4ms/step\n",
            "Epoch 5/10\n",
            "131/131 - 1s - loss: 47604088.0000 - val_loss: 141751936.0000 - 530ms/epoch - 4ms/step\n",
            "Epoch 6/10\n",
            "131/131 - 0s - loss: 45241584.0000 - val_loss: 137342640.0000 - 474ms/epoch - 4ms/step\n",
            "Epoch 7/10\n",
            "131/131 - 0s - loss: 42580228.0000 - val_loss: 132411856.0000 - 491ms/epoch - 4ms/step\n",
            "Epoch 8/10\n",
            "131/131 - 1s - loss: 39688264.0000 - val_loss: 127043184.0000 - 523ms/epoch - 4ms/step\n",
            "Epoch 9/10\n",
            "131/131 - 0s - loss: 36636944.0000 - val_loss: 121346792.0000 - 474ms/epoch - 4ms/step\n",
            "Epoch 10/10\n",
            "131/131 - 0s - loss: 33493404.0000 - val_loss: 115411824.0000 - 488ms/epoch - 4ms/step\n"
          ]
        },
        {
          "output_type": "execute_result",
          "data": {
            "text/plain": [
              "<keras.callbacks.History at 0x7f8c9a34b850>"
            ]
          },
          "metadata": {},
          "execution_count": 12
        }
      ]
    }
  ]
}